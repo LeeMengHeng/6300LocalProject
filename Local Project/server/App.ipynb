{
 "cells": [
  {
   "cell_type": "code",
   "execution_count": null,
   "id": "50a8b098",
   "metadata": {},
   "outputs": [
    {
     "name": "stdout",
     "output_type": "stream",
     "text": [
      "<class 'bytes'>\n",
      "{\"192.168.137.219\": [\"0\", \"0\"]}\n"
     ]
    }
   ],
   "source": [
    "import socket\n",
    "\n",
    "PORT = 8000\n",
    "# '192.168.137.45'\n",
    "sock = socket.socket(socket.AF_INET, socket.SOCK_STREAM)\n",
    "sock.connect(('192.168.137.181', PORT))\n",
    "sock.send(b\"GET_ALL_DOORS\")\n",
    "\n",
    "response = sock.recv(4096)\n",
    "sock.close()\n",
    "print(type(response))\n",
    "print(response.decode())"
   ]
  },
  {
   "cell_type": "code",
   "execution_count": null,
   "id": "0e8dc74f",
   "metadata": {},
   "outputs": [
    {
     "name": "stdout",
     "output_type": "stream",
     "text": [
      "<class 'bytes'>\n",
      "-0.4351387023925781\n"
     ]
    }
   ],
   "source": [
    "import socket\n",
    "\n",
    "PORT = 8000\n",
    "# '192.168.137.45'\n",
    "sock = socket.socket(socket.AF_INET, socket.SOCK_STREAM)\n",
    "sock.connect(('192.168.137.181', PORT))\n",
    "sock.send(b\"GET_PEOPLE\")\n",
    "\n",
    "response = sock.recv(4096)\n",
    "sock.close()\n",
    "print(type(response))\n",
    "print(response.decode())"
   ]
  },
  {
   "cell_type": "code",
   "execution_count": 168,
   "id": "bab2cff3",
   "metadata": {},
   "outputs": [
    {
     "name": "stdout",
     "output_type": "stream",
     "text": [
      "<class 'bytes'>\n",
      "{\"192.168.137.30\": [\"0\", \"0\"]}\n"
     ]
    }
   ],
   "source": [
    "import socket\n",
    "\n",
    "PORT = 8000\n",
    "# '192.168.137.45'\n",
    "sock = socket.socket(socket.AF_INET, socket.SOCK_STREAM)\n",
    "sock.connect(('192.168.137.71', PORT))\n",
    "sock.send(b\"GET_ALL_WINDOWS\")\n",
    "\n",
    "response = sock.recv(4096)\n",
    "sock.close()\n",
    "print(type(response))\n",
    "print(response.decode())"
   ]
  },
  {
   "cell_type": "code",
   "execution_count": 118,
   "id": "3f2c662f",
   "metadata": {},
   "outputs": [],
   "source": [
    "PORT = 8000\n",
    "\n",
    "sock = socket.socket(socket.AF_INET, socket.SOCK_STREAM)\n",
    "sock.connect(('192.168.137.71', PORT))\n",
    "sock.send(b\"ADD192.168.137.224\")\n",
    "\n",
    "response = sock.recv(4096)\n",
    "sock.close()\n",
    "#print(response)\n",
    "#print(response.decode())"
   ]
  },
  {
   "cell_type": "code",
   "execution_count": 2,
   "id": "82ab23c5",
   "metadata": {},
   "outputs": [],
   "source": [
    "import socket\n",
    "    \n",
    "class App:\n",
    "    \n",
    "    \n",
    "    \n",
    "    def __init__(ip='192.168.137.45', port = 8000):\n",
    "        self.IP = ip\n",
    "        self.PORT = port\n",
    "\n",
    "    def getAll():\n",
    "        sock = socket.socket(socket.AF_INET, socket.SOCK_STREAM)\n",
    "        sock.connect(('192.168.137.45', self.PORT))\n",
    "        sock.send(b\"GET_ALL\")\n",
    "\n",
    "        response = sock.recv(4096)\n",
    "        sock.close()\n",
    "        print(response)\n",
    "        print(response.decode())\n",
    "        \n",
    "        return response.decode()\n",
    "\n",
    "    \n",
    "    def add(esp32IP= \"192.168.137.125\"):\n",
    "        sock = socket.socket(socket.AF_INET, socket.SOCK_STREAM)\n",
    "        sock.connect((self.IP, self.PORT))\n",
    "        sock.send(b\"ADD\"+esp32IP)\n",
    "        response = sock.recv(4096)\n",
    "        sock.close()\n",
    "        \n",
    "\n",
    "\n"
   ]
  },
  {
   "cell_type": "code",
   "execution_count": 4,
   "id": "2187fc45",
   "metadata": {},
   "outputs": [],
   "source": [
    "response_headers = {\n",
    "            'Content-Type': 'text/html; encoding=utf8',\n",
    "            'Content-Length': 5,\n",
    "            'Connection': 'close',\n",
    "        }\n",
    "    \n",
    "response_headers_raw = ''.join('%s: %s\\n' % (k, v) for k, v in \\\n",
    "                                                response_headers.items())"
   ]
  },
  {
   "cell_type": "code",
   "execution_count": 5,
   "id": "dca2f9e4",
   "metadata": {},
   "outputs": [
    {
     "data": {
      "text/plain": [
       "'Content-Type: text/html; encoding=utf8\\nContent-Length: 5\\nConnection: close\\n'"
      ]
     },
     "execution_count": 5,
     "metadata": {},
     "output_type": "execute_result"
    }
   ],
   "source": [
    "response_headers_raw"
   ]
  },
  {
   "cell_type": "code",
   "execution_count": 8,
   "id": "4e6de8de",
   "metadata": {},
   "outputs": [],
   "source": [
    "response_body = [\n",
    "            '<html><body><h1>Hello, world!</h1>',\n",
    "            '<p>This page is in location , was requested ' % locals(),\n",
    "            'using , and with .</p>' % locals(),\n",
    "            '<p>Request body isr</p>' % locals(),\n",
    "            '<p>Actual set of headers received:</p>',\n",
    "            '<ul>',\n",
    "        ]"
   ]
  },
  {
   "cell_type": "code",
   "execution_count": 10,
   "id": "6a78940f",
   "metadata": {},
   "outputs": [],
   "source": [
    "response_body.append('</ul></body></html>')\n",
    "    \n",
    "response_body_raw = ''.join(response_body)"
   ]
  },
  {
   "cell_type": "code",
   "execution_count": 11,
   "id": "ac0670b6",
   "metadata": {},
   "outputs": [
    {
     "data": {
      "text/plain": [
       "'<html><body><h1>Hello, world!</h1><p>This page is in location , was requested using , and with .</p><p>Request body isr</p><p>Actual set of headers received:</p><ul></ul></body></html>'"
      ]
     },
     "execution_count": 11,
     "metadata": {},
     "output_type": "execute_result"
    }
   ],
   "source": [
    "response_body_raw"
   ]
  },
  {
   "cell_type": "code",
   "execution_count": null,
   "id": "75f7b013",
   "metadata": {},
   "outputs": [],
   "source": []
  }
 ],
 "metadata": {
  "kernelspec": {
   "display_name": "Python 3",
   "language": "python",
   "name": "python3"
  },
  "language_info": {
   "codemirror_mode": {
    "name": "ipython",
    "version": 3
   },
   "file_extension": ".py",
   "mimetype": "text/x-python",
   "name": "python",
   "nbconvert_exporter": "python",
   "pygments_lexer": "ipython3",
   "version": "3.8.2"
  }
 },
 "nbformat": 4,
 "nbformat_minor": 5
}
